{
  "nbformat": 4,
  "nbformat_minor": 0,
  "metadata": {
    "colab": {
      "provenance": [],
      "include_colab_link": true
    },
    "kernelspec": {
      "name": "python3",
      "display_name": "Python 3"
    },
    "language_info": {
      "name": "python"
    }
  },
  "cells": [
    {
      "cell_type": "markdown",
      "metadata": {
        "id": "view-in-github",
        "colab_type": "text"
      },
      "source": [
        "<a href=\"https://colab.research.google.com/github/saitosp/nnUNet/blob/master/nnU-Net_Colab.ipynb\" target=\"_parent\"><img src=\"https://colab.research.google.com/assets/colab-badge.svg\" alt=\"Open In Colab\"/></a>"
      ]
    },
    {
      "cell_type": "markdown",
      "metadata": {
        "id": "BU92-cG2fct7"
      },
      "source": [
        "# Set up google collab variables"
      ]
    },
    {
      "cell_type": "code",
      "execution_count": null,
      "metadata": {
        "colab": {
          "base_uri": "https://localhost:8080/"
        },
        "id": "OOgiMMzjA60J",
        "outputId": "e0166c96-9b68-40c0-a45f-595242e23eb5"
      },
      "outputs": [
        {
          "name": "stdout",
          "output_type": "stream",
          "text": [
            "/Users/francoisporcher/Downloads/004 - nnU-Net/my_nnunet\n",
            "/Users/francoisporcher/Downloads/004 - nnU-Net/data/input\n",
            "/Users/francoisporcher/Downloads/004 - nnU-Net/data/ground_truth\n"
          ]
        }
      ],
      "source": [
        "collab = True\n",
        "\n",
        "import os\n",
        "import shutil\n",
        "#libraries\n",
        "from collections import OrderedDict\n",
        "import json\n",
        "import numpy as np\n",
        "\n",
        "#visualization of the dataset\n",
        "import matplotlib.pyplot as plt\n",
        "import nibabel as nib\n",
        "\n",
        "if collab:\n",
        "    from google.colab import drive\n",
        "    drive.flush_and_unmount()\n",
        "    drive.mount('/content/drive', force_remount=True)\n",
        "    # Change \"neurosciences-segmentation\" to the name of your project folder\n",
        "    root_dir = \"/content/drive/MyDrive/neurosciences-segmentation\"\n",
        "\n",
        "\n",
        "else:\n",
        "    # get the dir of the parent dir\n",
        "    root_dir = os.getcwd()\n",
        "\n",
        "\n",
        "my_nnunet_dir = os.path.join(root_dir,'my_nnunet')\n",
        "input_dir = os.path.join(root_dir, 'data/input')\n",
        "segmentation_dir = os.path.join(root_dir, 'data/ground_truth')\n",
        "print(my_nnunet_dir)\n",
        "print(input_dir)\n",
        "print(segmentation_dir)"
      ]
    },
    {
      "cell_type": "code",
      "execution_count": null,
      "metadata": {
        "id": "BLGlQwXAfct_"
      },
      "outputs": [],
      "source": [
        "def make_if_dont_exist(folder_path,overwrite=False):\n",
        "    \"\"\"\n",
        "    creates a folder if it does not exists\n",
        "    input:\n",
        "    folder_path : relative path of the folder which needs to be created\n",
        "    over_write :(default: False) if True overwrite the existing folder\n",
        "    \"\"\"\n",
        "    if os.path.exists(folder_path):\n",
        "\n",
        "        if not overwrite:\n",
        "            print(f'{folder_path} exists.')\n",
        "        else:\n",
        "            print(f\"{folder_path} overwritten\")\n",
        "            shutil.rmtree(folder_path)\n",
        "            os.makedirs(folder_path)\n",
        "\n",
        "    else:\n",
        "      os.makedirs(folder_path)\n",
        "      print(f\"{folder_path} created!\")\n"
      ]
    },
    {
      "cell_type": "code",
      "execution_count": null,
      "metadata": {
        "colab": {
          "base_uri": "https://localhost:8080/"
        },
        "id": "9zR_pLANrB-J",
        "outputId": "de2c287e-34c8-4f1a-aae6-b887fc9d26b1"
      },
      "outputs": [
        {
          "name": "stdout",
          "output_type": "stream",
          "text": [
            "my_nnunet exists.\n",
            "Current working directory: /Users/francoisporcher/Downloads/004 - nnU-Net/my_nnunet\n"
          ]
        }
      ],
      "source": [
        "os.chdir(root_dir)\n",
        "make_if_dont_exist('my_nnunet', overwrite=False)\n",
        "os.chdir('my_nnunet')\n",
        "print(f\"Current working directory: {os.getcwd()}\")"
      ]
    },
    {
      "cell_type": "markdown",
      "metadata": {
        "id": "UEGTJkWDEfDD"
      },
      "source": [
        "# Clone nnunet repository and install requirements"
      ]
    },
    {
      "cell_type": "code",
      "execution_count": null,
      "metadata": {
        "id": "gS9kZKcfkTZL"
      },
      "outputs": [],
      "source": [
        "!pip install nnunet"
      ]
    },
    {
      "cell_type": "code",
      "execution_count": null,
      "metadata": {
        "id": "Jz9OYkiN0IwE"
      },
      "outputs": [],
      "source": [
        "os.getcwd()"
      ]
    },
    {
      "cell_type": "code",
      "execution_count": null,
      "metadata": {
        "id": "7YPB5iHnkZPt"
      },
      "outputs": [],
      "source": [
        "!git clone https://github.com/MIC-DKFZ/nnUNet.git\n",
        "!git clone https://github.com/NVIDIA/apex"
      ]
    },
    {
      "cell_type": "code",
      "execution_count": null,
      "metadata": {
        "id": "nyatgRxsfcuB"
      },
      "outputs": [],
      "source": [
        "my_nnunet_dir"
      ]
    },
    {
      "cell_type": "code",
      "execution_count": null,
      "metadata": {
        "id": "PUJC4DblEkwr"
      },
      "outputs": [],
      "source": [
        "# repository dir is the path of the github folder\n",
        "respository_dir = os.path.join(my_nnunet_dir,'nnUNet')\n",
        "os.chdir(respository_dir)\n",
        "!pip install -e\n",
        "!pip install --upgrade git+https://github.com/nanohanno/hiddenlayer.git@bugfix/get_trace_graph#egg=hiddenlayer"
      ]
    },
    {
      "cell_type": "code",
      "execution_count": null,
      "metadata": {
        "id": "Keg3we5Pwta3"
      },
      "outputs": [],
      "source": [
        "# return in the my_nnunet folder\n",
        "os.chdir(my_nnunet_dir)\n",
        "os.getcwd()"
      ]
    },
    {
      "cell_type": "code",
      "execution_count": null,
      "metadata": {
        "id": "dYELc9HbmeO_"
      },
      "outputs": [],
      "source": []
    },
    {
      "cell_type": "markdown",
      "metadata": {
        "id": "IGRqO-9GGs-O"
      },
      "source": [
        "# Creation of all the required folders"
      ]
    },
    {
      "cell_type": "code",
      "execution_count": null,
      "metadata": {
        "id": "4TXxPBwEnEgT"
      },
      "outputs": [],
      "source": [
        "task_name = 'Task001' #change here for different task name\n",
        "\n",
        "# We define all the necessary paths\n",
        "nnunet_dir = \"nnUNet/nnunet/nnUNet_raw_data_base/nnUNet_raw_data\"\n",
        "task_folder_name = os.path.join(nnunet_dir,task_name)\n",
        "train_image_dir = os.path.join(task_folder_name,'imagesTr') # path to training images\n",
        "train_label_dir = os.path.join(task_folder_name,'labelsTr') # path to training labels\n",
        "test_dir = os.path.join(task_folder_name,'imagesTs') # path to test images\n",
        "main_dir = os.path.join(my_nnunet_dir,'nnUNet/nnunet') # path to main directory\n",
        "trained_model_dir = os.path.join(main_dir, 'nnUNet_trained_models') # path to trained models"
      ]
    },
    {
      "cell_type": "code",
      "execution_count": null,
      "metadata": {
        "colab": {
          "base_uri": "https://localhost:8080/"
        },
        "id": "-fMTNw2XnIqh",
        "outputId": "39195e7d-7994-4ef2-8415-1ff530ce3548"
      },
      "outputs": [
        {
          "name": "stdout",
          "output_type": "stream",
          "text": [
            "nnUNet/nnunet/nnUNet_raw_data_base/nnUNet_raw_data/Task001 exists.\n",
            "nnUNet/nnunet/nnUNet_raw_data_base/nnUNet_raw_data/Task001/imagesTr exists.\n",
            "nnUNet/nnunet/nnUNet_raw_data_base/nnUNet_raw_data/Task001/labelsTr exists.\n",
            "nnUNet/nnunet/nnUNet_raw_data_base/nnUNet_raw_data/Task001/imagesTs exists.\n",
            "/Users/francoisporcher/Downloads/004 - nnU-Net/my_nnunet/nnUNet/nnunet/nnUNet_trained_models exists.\n"
          ]
        }
      ],
      "source": [
        "# Creation of all the folders\n",
        "overwrite = False # Set this to True if you want to overwrite the folders\n",
        "make_if_dont_exist(task_folder_name,overwrite = overwrite)\n",
        "make_if_dont_exist(train_image_dir, overwrite = overwrite)\n",
        "make_if_dont_exist(train_label_dir, overwrite = overwrite)\n",
        "make_if_dont_exist(test_dir,overwrite= overwrite)\n",
        "make_if_dont_exist(trained_model_dir, overwrite=overwrite)"
      ]
    },
    {
      "cell_type": "markdown",
      "metadata": {
        "id": "3RLFIcEFIeiI"
      },
      "source": [
        "# Setting the environment variables"
      ]
    },
    {
      "cell_type": "code",
      "execution_count": null,
      "metadata": {
        "id": "QCcldu3wfcuC"
      },
      "outputs": [],
      "source": [
        "os.environ['nnUNet_raw_data_base'] = os.path.join(main_dir,'nnUNet_raw_data_base')\n",
        "os.environ['nnUNet_preprocessed'] = os.path.join(main_dir,'preprocessed')\n",
        "os.environ['RESULTS_FOLDER'] = trained_model_dir"
      ]
    },
    {
      "cell_type": "markdown",
      "metadata": {
        "id": "fNgay9awKKu3"
      },
      "source": [
        "# Move the files in the training and test"
      ]
    },
    {
      "cell_type": "code",
      "execution_count": null,
      "metadata": {
        "id": "BegjYO9d0IwI"
      },
      "outputs": [],
      "source": [
        "def copy_and_rename(old_location,old_file_name,new_location,new_filename,delete_original = False):\n",
        "    shutil.copy(os.path.join(old_location,old_file_name),new_location)\n",
        "    os.rename(os.path.join(new_location,old_file_name),os.path.join(new_location,new_filename))\n",
        "    if delete_original:\n",
        "        os.remove(os.path.join(old_location,old_file_name))"
      ]
    },
    {
      "cell_type": "code",
      "execution_count": null,
      "metadata": {
        "id": "G7NUxM7Z3rcH",
        "outputId": "e709bb5f-931a-4e13-c7eb-9cdc6da1b9c5"
      },
      "outputs": [
        {
          "data": {
            "text/plain": [
              "'/Users/francoisporcher/Downloads/004 - nnU-Net/data/ground_truth'"
            ]
          },
          "execution_count": 9,
          "metadata": {},
          "output_type": "execute_result"
        }
      ],
      "source": [
        "segmentation_dir"
      ]
    },
    {
      "cell_type": "code",
      "execution_count": null,
      "metadata": {
        "id": "8zJ6uMuk3rcH"
      },
      "outputs": [],
      "source": [
        "list_of_all_files = os.listdir(segmentation_dir)"
      ]
    },
    {
      "cell_type": "code",
      "execution_count": null,
      "metadata": {
        "id": "WSvsVyi90IwI"
      },
      "outputs": [],
      "source": [
        "list_of_all_files = os.listdir(segmentation_dir)\n",
        "list_of_all_files = [file_name for file_name in list_of_all_files if file_name.endswith('.nii.gz')]\n",
        "\n",
        "\n",
        "for file_name in list_of_all_files:\n",
        "    copy_and_rename(input_dir,file_name,train_image_dir,file_name)\n",
        "    copy_and_rename(segmentation_dir,file_name,train_label_dir,file_name)"
      ]
    },
    {
      "cell_type": "code",
      "execution_count": null,
      "metadata": {
        "id": "0UAfMFC2m7ae"
      },
      "outputs": [],
      "source": [
        "def check_modality(filename):\n",
        "    \"\"\"\n",
        "    check for the existence of modality\n",
        "    return False if modality is not found else True\n",
        "    \"\"\"\n",
        "    end = filename.find('.nii.gz')\n",
        "    modality = filename[end-4:end]\n",
        "    for mod in modality:\n",
        "        if not(ord(mod)>=48 and ord(mod)<=57): #if not in 0 to 9 digits\n",
        "            return False\n",
        "    return True"
      ]
    },
    {
      "cell_type": "code",
      "execution_count": null,
      "metadata": {
        "colab": {
          "base_uri": "https://localhost:8080/"
        },
        "id": "F6CND7MYKHQh",
        "outputId": "fbf334fe-7fe4-4f27-8acf-b36959b05c9b"
      },
      "outputs": [
        {
          "name": "stdout",
          "output_type": "stream",
          "text": [
            "Renamed to MMRR-21-7_0000.nii.gz\n",
            "Renamed to OASIS-TRT-20-1_0000.nii.gz\n",
            "Renamed to NKI-RS-22-15_0000.nii.gz\n",
            "Renamed to NKI-RS-22-19_0000.nii.gz\n",
            "Renamed to Afterthought-1_0000.nii.gz\n",
            "Renamed to MMRR-21-10_0000.nii.gz\n",
            "Renamed to OASIS-TRT-20-20_0000.nii.gz\n",
            "Renamed to HLN-12-2_0000.nii.gz\n",
            "Renamed to NKI-TRT-20-14_0000.nii.gz\n",
            "Renamed to NKI-TRT-20-1_0000.nii.gz\n",
            "Renamed to NKI-RS-22-3_0000.nii.gz\n",
            "Renamed to OASIS-TRT-20-16_0000.nii.gz\n",
            "Renamed to NKI-TRT-20-18_0000.nii.gz\n",
            "Renamed to NKI-TRT-20-20_0000.nii.gz\n",
            "Renamed to MMRR-21-12_0000.nii.gz\n",
            "Renamed to NKI-RS-22-1_0000.nii.gz\n",
            "Renamed to OASIS-TRT-20-14_0000.nii.gz\n",
            "Renamed to Twins-2-1_0000.nii.gz\n",
            "Renamed to OASIS-TRT-20-18_0000.nii.gz\n",
            "Renamed to HLN-12-11_0000.nii.gz\n",
            "Renamed to NKI-TRT-20-16_0000.nii.gz\n",
            "Renamed to NKI-TRT-20-3_0000.nii.gz\n",
            "Renamed to MMRR-21-9_0000.nii.gz\n",
            "Renamed to NKI-RS-22-21_0000.nii.gz\n",
            "Renamed to OASIS-TRT-20-3_0000.nii.gz\n",
            "Renamed to MMRR-21-5_0000.nii.gz\n",
            "Renamed to NKI-RS-22-17_0000.nii.gz\n",
            "Renamed to NKI-TRT-20-12_0000.nii.gz\n",
            "Renamed to NKI-TRT-20-7_0000.nii.gz\n",
            "Renamed to NKI-RS-22-9_0000.nii.gz\n",
            "Renamed to OASIS-TRT-20-10_0000.nii.gz\n",
            "Renamed to MMRR-21-20_0000.nii.gz\n",
            "Renamed to NKI-RS-22-5_0000.nii.gz\n",
            "Renamed to HLN-12-8_0000.nii.gz\n",
            "Renamed to MMRR-21-16_0000.nii.gz\n",
            "Renamed to HLN-12-4_0000.nii.gz\n",
            "Renamed to NKI-RS-22-13_0000.nii.gz\n",
            "Renamed to MMRR-3T7T-2-1_0000.nii.gz\n",
            "Renamed to OASIS-TRT-20-7_0000.nii.gz\n",
            "Renamed to MMRR-21-1_0000.nii.gz\n",
            "Renamed to NKI-RS-22-11_0000.nii.gz\n",
            "Renamed to OASIS-TRT-20-9_0000.nii.gz\n",
            "Renamed to MMRR-21-3_0000.nii.gz\n",
            "Renamed to OASIS-TRT-20-5_0000.nii.gz\n",
            "Renamed to OASIS-TRT-20-12_0000.nii.gz\n",
            "Renamed to NKI-TRT-20-9_0000.nii.gz\n",
            "Renamed to NKI-RS-22-7_0000.nii.gz\n",
            "Renamed to NKI-TRT-20-10_0000.nii.gz\n",
            "Renamed to NKI-TRT-20-5_0000.nii.gz\n",
            "Renamed to HLN-12-6_0000.nii.gz\n",
            "Renamed to MMRR-21-18_0000.nii.gz\n",
            "Renamed to MMRR-21-14_0000.nii.gz\n",
            "Renamed to HLN-12-12_0000.nii.gz\n",
            "Renamed to NKI-TRT-20-15_0000.nii.gz\n",
            "Renamed to OASIS-TRT-20-17_0000.nii.gz\n",
            "Renamed to NKI-TRT-20-19_0000.nii.gz\n",
            "Renamed to NKI-RS-22-2_0000.nii.gz\n",
            "Renamed to Twins-2-2_0000.nii.gz\n",
            "Renamed to MMRR-21-11_0000.nii.gz\n",
            "Renamed to HLN-12-3_0000.nii.gz\n",
            "Renamed to NKI-RS-22-14_0000.nii.gz\n",
            "Renamed to NKI-RS-22-18_0000.nii.gz\n",
            "Renamed to MMRR-21-6_0000.nii.gz\n",
            "Renamed to NKI-RS-22-22_0000.nii.gz\n",
            "Renamed to Colin27-1_0000.nii.gz\n",
            "Renamed to NKI-RS-22-16_0000.nii.gz\n",
            "Renamed to NKI-RS-22-20_0000.nii.gz\n",
            "Renamed to MMRR-21-8_0000.nii.gz\n",
            "Renamed to OASIS-TRT-20-2_0000.nii.gz\n",
            "Renamed to MMRR-21-4_0000.nii.gz\n",
            "Renamed to OASIS-TRT-20-15_0000.nii.gz\n",
            "Renamed to OASIS-TRT-20-19_0000.nii.gz\n",
            "Renamed to HLN-12-10_0000.nii.gz\n",
            "Renamed to NKI-TRT-20-17_0000.nii.gz\n",
            "Renamed to NKI-TRT-20-2_0000.nii.gz\n",
            "Renamed to HLN-12-1_0000.nii.gz\n",
            "Renamed to MMRR-21-13_0000.nii.gz\n",
            "Renamed to OASIS-TRT-20-6_0000.nii.gz\n",
            "Renamed to NKI-RS-22-12_0000.nii.gz\n",
            "Renamed to MMRR-21-17_0000.nii.gz\n",
            "Renamed to HLN-12-9_0000.nii.gz\n",
            "Renamed to HLN-12-5_0000.nii.gz\n",
            "Renamed to NKI-RS-22-8_0000.nii.gz\n",
            "Renamed to NKI-TRT-20-13_0000.nii.gz\n",
            "Renamed to NKI-TRT-20-6_0000.nii.gz\n",
            "Renamed to MMRR-21-21_0000.nii.gz\n",
            "Renamed to NKI-RS-22-4_0000.nii.gz\n",
            "Renamed to OASIS-TRT-20-11_0000.nii.gz\n",
            "Renamed to MMRR-21-19_0000.nii.gz\n",
            "Renamed to HLN-12-7_0000.nii.gz\n",
            "Renamed to MMRR-21-15_0000.nii.gz\n",
            "Renamed to NKI-RS-22-6_0000.nii.gz\n",
            "Renamed to OASIS-TRT-20-13_0000.nii.gz\n",
            "Renamed to NKI-TRT-20-8_0000.nii.gz\n",
            "Renamed to NKI-TRT-20-11_0000.nii.gz\n",
            "Renamed to NKI-TRT-20-4_0000.nii.gz\n",
            "Renamed to OASIS-TRT-20-8_0000.nii.gz\n",
            "Renamed to MMRR-21-2_0000.nii.gz\n",
            "Renamed to OASIS-TRT-20-4_0000.nii.gz\n",
            "Renamed to MMRR-3T7T-2-2_0000.nii.gz\n",
            "Renamed to NKI-RS-22-10_0000.nii.gz\n"
          ]
        }
      ],
      "source": [
        "def rename_for_single_modality(directory):\n",
        "\n",
        "    for file in os.listdir(directory):\n",
        "\n",
        "        if check_modality(file)==False:\n",
        "            new_name = file[:file.find('.nii.gz')]+\"_0000.nii.gz\"\n",
        "            os.rename(os.path.join(directory,file),os.path.join(directory,new_name))\n",
        "            print(f\"Renamed to {new_name}\")\n",
        "        else:\n",
        "            print(f\"Modality present: {file}\")\n",
        "\n",
        "rename_for_single_modality(train_image_dir)\n",
        "# rename_for_single_modality(test_dir)\n"
      ]
    },
    {
      "cell_type": "code",
      "execution_count": null,
      "metadata": {
        "id": "BeRw3travgF6"
      },
      "outputs": [],
      "source": [
        "overwrite_json_file = True #make it True if you want to overwrite the dataset.json file in Task_folder\n",
        "json_file_exist = False\n",
        "\n",
        "if os.path.exists(os.path.join(task_folder_name,'dataset.json')):\n",
        "    print('dataset.json already exist!')\n",
        "    json_file_exist = True\n",
        "\n",
        "if json_file_exist==False or overwrite_json_file:\n",
        "\n",
        "    json_dict = OrderedDict()\n",
        "    json_dict['name'] = task_name\n",
        "    json_dict['description'] = \"Segmentation of T1 Scans from MindBoggle\"\n",
        "    json_dict['tensorImageSize'] = \"3D\"\n",
        "    json_dict['reference'] = \"see challenge website\"\n",
        "    json_dict['licence'] = \"see challenge website\"\n",
        "    json_dict['release'] = \"0.0\"\n",
        "\n",
        "    #you may mention more than one modality\n",
        "    json_dict['modality'] = {\n",
        "        \"0\": \"MRI\"\n",
        "    }\n",
        "    #labels+1 should be mentioned for all the labels in the dataset\n",
        "    json_dict['labels'] = {\n",
        "        \"0\": \"Non Brain\",\n",
        "        \"1\": \"Cortical gray matter\",\n",
        "        \"2\": \"Cortical White matter\",\n",
        "        \"3\" : \"Cerebellum gray \",\n",
        "        \"4\" : \"Cerebellum white\"\n",
        "    }\n",
        "\n",
        "\n",
        "    train_ids = os.listdir(train_label_dir)\n",
        "    test_ids = os.listdir(test_dir)\n",
        "    json_dict['numTraining'] = len(train_ids)\n",
        "    json_dict['numTest'] = len(test_ids)\n",
        "\n",
        "    #no modality in train image and labels in dataset.json\n",
        "    json_dict['training'] = [{'image': \"./imagesTr/%s\" % i, \"label\": \"./labelsTr/%s\" % i} for i in train_ids]\n",
        "\n",
        "    #removing the modality from test image name to be saved in dataset.json\n",
        "    json_dict['test'] = [\"./imagesTs/%s\" % (i[:i.find(\"_0000\")]+'.nii.gz') for i in test_ids]\n",
        "\n",
        "    with open(os.path.join(task_folder_name,\"dataset.json\"), 'w') as f:\n",
        "        json.dump(json_dict, f, indent=4, sort_keys=True)\n",
        "\n",
        "    if os.path.exists(os.path.join(task_folder_name,'dataset.json')):\n",
        "        if json_file_exist==False:\n",
        "            print('dataset.json created!')\n",
        "        else:\n",
        "            print('dataset.json overwritten!')"
      ]
    },
    {
      "cell_type": "code",
      "execution_count": null,
      "metadata": {
        "id": "-UdzwahGv_Ez"
      },
      "outputs": [],
      "source": [
        "!nnUNet_plan_and_preprocess -t 1 --verify_dataset_integrity"
      ]
    },
    {
      "cell_type": "markdown",
      "metadata": {
        "id": "strUL1crfcuE"
      },
      "source": [
        "# Training the 3 models"
      ]
    },
    {
      "cell_type": "code",
      "execution_count": null,
      "metadata": {
        "id": "N3Y2LupSfcuE"
      },
      "outputs": [],
      "source": [
        "#train 3D full resolution U net\n",
        "!nnUNet_train 3d_fullres nnUNetTrainerV2 1 0 --npz"
      ]
    },
    {
      "cell_type": "code",
      "execution_count": null,
      "metadata": {
        "id": "oTu4PE_yfcuE"
      },
      "outputs": [],
      "source": [
        "# train 2D U net\n",
        "!nnUNet_train 2d nnUNetTrainerV2 1 0 --npz"
      ]
    },
    {
      "cell_type": "code",
      "execution_count": null,
      "metadata": {
        "id": "86qXQxspfcuE"
      },
      "outputs": [],
      "source": [
        "# train 3D U-net cascade\n",
        "!nnUNet_train 3d_lowres nnUNetTrainerV2CascadeFullRes 1 0 --npz\n",
        "!nnUNet_train 3d_fullres nnUNetTrainerV2CascadeFullRes 1 0 --npz"
      ]
    },
    {
      "cell_type": "markdown",
      "metadata": {
        "id": "gGXiFLSnfcuE"
      },
      "source": [
        "# Identifying the best configuration"
      ]
    },
    {
      "cell_type": "code",
      "execution_count": null,
      "metadata": {
        "id": "D4dGWtazfcuE"
      },
      "outputs": [],
      "source": [
        "!nnUNet_find_best_configuration -m 2d 3d_fullres 3d_lowres 3d_cascade_fullres -t 1"
      ]
    },
    {
      "cell_type": "markdown",
      "metadata": {
        "id": "aharD3bafcuF"
      },
      "source": [
        "# Inference"
      ]
    },
    {
      "cell_type": "code",
      "execution_count": null,
      "metadata": {
        "id": "eLQZbIhM0IwL"
      },
      "outputs": [],
      "source": [
        "os.getcwd()"
      ]
    },
    {
      "cell_type": "code",
      "execution_count": null,
      "metadata": {
        "colab": {
          "background_save": true
        },
        "id": "y94fELQT0IwL"
      },
      "outputs": [],
      "source": [
        "task_folder_name"
      ]
    },
    {
      "cell_type": "code",
      "execution_count": null,
      "metadata": {
        "id": "6Xkj4-uFfcuF"
      },
      "outputs": [],
      "source": [
        "result_dir = os.path.join(task_folder_name, 'nnUNet_Prediction_Results')\n",
        "make_if_dont_exist(result_dir, overwrite=True)"
      ]
    },
    {
      "cell_type": "code",
      "execution_count": null,
      "metadata": {
        "id": "LVF9Cos90IwM"
      },
      "outputs": [],
      "source": [
        "!nnUNet_predict -i /content/drive/MyDrive/neurosciences-segmentation/my_nnunet/nnUNet/nnunet/nnUNet_raw_data_base/nnUNet_raw_data/Task001/imagesTs -o /content/drive/MyDrive/neurosciences-segmentation/my_nnunet/nnUNet/nnunet/nnUNet_raw_data_base/nnUNet_raw_data/Task001/nnUNet_Prediction_Results -t 1 -tr nnUNetTrainerV2 -m 2d -f 0  --num_threads_preprocessing 1"
      ]
    }
  ]
}